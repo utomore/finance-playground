{
 "cells": [
  {
   "cell_type": "markdown",
   "id": "0",
   "metadata": {},
   "source": [
    "# Stock 工具"
   ]
  },
  {
   "cell_type": "markdown",
   "id": "1",
   "metadata": {},
   "source": [
    "主要股票都是用字串的方式處理，格式為 \"2330.TW\", \"GOOG\" 台股後面要加上 \".TW\"，時間區間則為字串如 `5y` 等"
   ]
  },
  {
   "cell_type": "markdown",
   "id": "2",
   "metadata": {},
   "source": [
    "## Import utils Modules"
   ]
  },
  {
   "cell_type": "markdown",
   "id": "3",
   "metadata": {},
   "source": [
    "Import 工具模組，安裝與導入"
   ]
  },
  {
   "cell_type": "code",
   "execution_count": null,
   "id": "4",
   "metadata": {},
   "outputs": [],
   "source": [
    "%pip install pandas yfinance"
   ]
  },
  {
   "cell_type": "code",
   "execution_count": null,
   "id": "5",
   "metadata": {},
   "outputs": [],
   "source": [
    "import sys\n",
    "sys.path.append('utils')\n",
    "\n",
    "import database\n",
    "import get_info"
   ]
  },
  {
   "cell_type": "markdown",
   "id": "6",
   "metadata": {},
   "source": [
    "## 資料庫基本更新"
   ]
  },
  {
   "cell_type": "markdown",
   "id": "7",
   "metadata": {},
   "source": [
    "確認與更新資料庫目前資料的版本"
   ]
  },
  {
   "cell_type": "code",
   "execution_count": null,
   "id": "8",
   "metadata": {},
   "outputs": [],
   "source": [
    "db_path = \"../stock_db.db\"\n",
    "db = database.DBManager(db_path)\n",
    "\n",
    "db.list_stocks()"
   ]
  },
  {
   "cell_type": "markdown",
   "id": "9",
   "metadata": {},
   "source": [
    "更新資料庫中的所有資料到最新的狀態"
   ]
  },
  {
   "cell_type": "code",
   "execution_count": null,
   "id": "10",
   "metadata": {},
   "outputs": [],
   "source": [
    "for stock in db.list_stocks() :\n",
    "    db.update_stock_in_db(stock)\n",
    "    print(\"-----\")"
   ]
  },
  {
   "cell_type": "markdown",
   "id": "11",
   "metadata": {},
   "source": [
    "## 加入新的股票(如果有需要)"
   ]
  },
  {
   "cell_type": "markdown",
   "id": "12",
   "metadata": {},
   "source": [
    "設計上沒有單獨儲存 stock 到資料庫，當試圖從資料庫抓取資料時，沒有拿到對應的資料就會自動去 yfinance 上面撈取並存入資料庫中。"
   ]
  },
  {
   "cell_type": "code",
   "execution_count": null,
   "id": "13",
   "metadata": {},
   "outputs": [],
   "source": [
    "new_stocks = [\"SPY\", \"MSFT\", \"INTC\", \"GOOG\", \"AMD\", \"TSLA\", \"NVDA\", \"AVGO\", \"UNH\", \"QQQ\", \"AAPL\", \"AMZN\", \"U\", \"CRM\", \"PLTR\", \"NFLX\", \"SPOT\"]\n",
    "\n",
    "for stock in new_stocks:\n",
    "    db.get_stock(stock, \"5y\")"
   ]
  },
  {
   "cell_type": "code",
   "execution_count": null,
   "id": "14",
   "metadata": {},
   "outputs": [],
   "source": [
    "get_info.get_quarter_medians_and_year_avg(db_path, \"AMD\", 2025)"
   ]
  },
  {
   "cell_type": "markdown",
   "id": "15",
   "metadata": {},
   "source": [
    "### 驗證或查看資料庫資料"
   ]
  },
  {
   "cell_type": "code",
   "execution_count": null,
   "id": "16",
   "metadata": {},
   "outputs": [],
   "source": [
    "import pandas as pd\n",
    "import sqlite3\n",
    "\n",
    "# --- 請確認以下設定和你的專案一致 ---\n",
    "db_path = \"../stock_db.db\"  # 你的資料庫路徑\n",
    "stock_ticker = \"AMD\"       # 你想查詢的股票\n",
    "year = 2025                # 你想查詢的年份\n",
    "# ------------------------------------\n",
    "\n",
    "# 建立查詢第一季資料的 SQL 語法\n",
    "# 表格名稱預期是 t_AMD (將 '.' 換成 '_')\n",
    "table_name = f\"t_{stock_ticker.replace('.', '_')}\"\n",
    "query = f\"\"\"\n",
    "    SELECT Date, Close FROM {table_name}\n",
    "    WHERE Date BETWEEN '{year}-01-01' AND '{year}-03-31'\n",
    "    ORDER BY Date ASC\n",
    "    LIMIT 5\n",
    "\"\"\"\n",
    "\n",
    "print(f\"正在查詢資料庫：{db_path}\")\n",
    "print(f\"執行的 SQL 語法：\\n{query}\")\n",
    "\n",
    "try:\n",
    "    # 連線資料庫並執行查詢\n",
    "    conn = sqlite3.connect(db_path)\n",
    "    df_q1 = pd.read_sql(query, conn)\n",
    "    conn.close()\n",
    "\n",
    "    # 顯示查詢結果\n",
    "    print(\"\\n--- 查詢結果 ---\")\n",
    "    if df_q1.empty:\n",
    "        print(f\"資料庫中完全沒有 {stock_ticker} 在 {year} 年第一季的任何資料。\")\n",
    "    else:\n",
    "        print(f\"找到了 {stock_ticker} 在 {year} 年第一季的資料，以下是前幾筆：\")\n",
    "        print(df_q1)\n",
    "\n",
    "except Exception as e:\n",
    "    print(f\"\\n查詢時發生錯誤：{e}\")\n",
    "    print(\"請確認資料庫路徑是否正確，以及資料表名稱 (t_AMD) 是否存在。\")"
   ]
  },
  {
   "cell_type": "markdown",
   "id": "17",
   "metadata": {},
   "source": [
    "## 計算年化標準差"
   ]
  },
  {
   "cell_type": "markdown",
   "id": "18",
   "metadata": {},
   "source": [
    "### 計算日報酬率"
   ]
  },
  {
   "cell_type": "code",
   "execution_count": null,
   "id": "19",
   "metadata": {},
   "outputs": [],
   "source": [
    "import pandas as pd\n",
    "import numpy as np # 我們需要 numpy 來做開根號\n",
    "\n",
    "# 假設你的資料已經載入到 df\n",
    "df = db.get_stock(\"GOOG\", \"1y\") \n",
    "\n",
    "# 1. 計算每日報酬率，pandas 有一個超方便的函式 pct_change()\n",
    "df['Daily_Return'] = df['Close'].pct_change()\n",
    "\n",
    "# 計算報酬率後，第一天的值會是 NaN (因為沒有前一天的價格)，我們把它去掉\n",
    "df.dropna(inplace=True)\n",
    "\n",
    "print(\"計算出的每日報酬率 (前五筆):\")\n",
    "print(df['Daily_Return'].head())"
   ]
  },
  {
   "cell_type": "markdown",
   "id": "20",
   "metadata": {},
   "source": [
    "### 計算每日標準差"
   ]
  },
  {
   "cell_type": "code",
   "execution_count": null,
   "id": "21",
   "metadata": {},
   "outputs": [],
   "source": [
    "# 2. 計算每日報酬率的標準差\n",
    "daily_std = df['Daily_Return'].std()\n",
    "\n",
    "print(f\"\\n每日標準差: {daily_std:.6f}\")"
   ]
  },
  {
   "cell_type": "markdown",
   "id": "22",
   "metadata": {},
   "source": [
    "### 計算年化標準差"
   ]
  },
  {
   "cell_type": "code",
   "execution_count": null,
   "id": "23",
   "metadata": {},
   "outputs": [],
   "source": [
    "# 3. 進行年化 (乘以 252 的平方根)\n",
    "annualized_std = daily_std * np.sqrt(252)\n",
    "\n",
    "print(f\"年化標準差: {annualized_std:.4f}\")\n",
    "print(f\"換算成百分比: {annualized_std:.2%}\")"
   ]
  },
  {
   "cell_type": "markdown",
   "id": "24",
   "metadata": {},
   "source": [
    "## 年化標準差 - 函數化"
   ]
  },
  {
   "cell_type": "code",
   "execution_count": null,
   "id": "25",
   "metadata": {},
   "outputs": [],
   "source": [
    "stock = \"UNH\"\n",
    "\n",
    "stock_df_5y = db.get_stock(stock, \"5y\") \n",
    "stock_df_3y = db.get_stock(stock, \"3y\")\n",
    "stock_df_1y = db.get_stock(stock, \"1y\") "
   ]
  },
  {
   "cell_type": "code",
   "execution_count": null,
   "id": "26",
   "metadata": {},
   "outputs": [],
   "source": [
    "stock_annual_return_1 = get_info.calculate_annual_return(stock_df_1y['Close'])\n",
    "stock_annual_return_3 = get_info.calculate_annual_return(stock_df_3y['Close'])\n",
    "stock_annual_return_5 = get_info.calculate_annual_return(stock_df_5y['Close'])\n",
    "print(f\"{stock} 的1年年化報酬率為: {stock_annual_return_1:.2%}\")\n",
    "print(f\"{stock} 的3年年化報酬率為: {stock_annual_return_3:.2%}\")\n",
    "print(f\"{stock} 的5年年化報酬率為: {stock_annual_return_5:.2%}\")"
   ]
  },
  {
   "cell_type": "code",
   "execution_count": null,
   "id": "27",
   "metadata": {},
   "outputs": [],
   "source": [
    "stock_annual_volatility_1 = get_info.calculate_annualized_std(stock_df_1y['Close'])\n",
    "stock_annual_volatility_3 = get_info.calculate_annualized_std(stock_df_3y['Close'])\n",
    "stock_annual_volatility_5 = get_info.calculate_annualized_std(stock_df_5y['Close'])\n",
    "print(f\"{stock} 的1年年化標準差（波動率）為: {stock_annual_volatility_1:.2%}\")\n",
    "print(f\"{stock} 的3年年化標準差（波動率）為: {stock_annual_volatility_3:.2%}\")\n",
    "print(f\"{stock} 的5年年化標準差（波動率）為: {stock_annual_volatility_5:.2%}\")"
   ]
  },
  {
   "cell_type": "markdown",
   "id": "28",
   "metadata": {},
   "source": [
    "## 計算 Sharp Ratio"
   ]
  },
  {
   "cell_type": "code",
   "execution_count": null,
   "id": "29",
   "metadata": {},
   "outputs": [],
   "source": [
    "\n",
    "# 假設當前的無風險利率為 3%\n",
    "risk_free_rate = 0.045\n",
    "\n",
    "# 計算 GOOG 的五年夏普值\n",
    "sharp_ratio_1 = get_info.calculate_sharpe_ratio(stock_df_1y['Close'], risk_free_rate)\n",
    "sharp_ratio_2 = get_info.calculate_sharpe_ratio(stock_df_3y['Close'], risk_free_rate)\n",
    "sharp_ratio_3 = get_info.calculate_sharpe_ratio(stock_df_5y['Close'], risk_free_rate)\n",
    "print(f\"{stock} 的1年夏普值為: {sharp_ratio_1:.2f}\")\n",
    "print(f\"{stock} 的3年夏普值為: {sharp_ratio_2:.2f}\")\n",
    "print(f\"{stock} 的5年夏普值為: {sharp_ratio_3:.2f}\")\n"
   ]
  },
  {
   "cell_type": "markdown",
   "id": "30",
   "metadata": {},
   "source": [
    "## 象限決策\n"
   ]
  },
  {
   "cell_type": "markdown",
   "id": "31",
   "metadata": {},
   "source": [
    "### 基準點 : SPY"
   ]
  },
  {
   "cell_type": "code",
   "execution_count": null,
   "id": "32",
   "metadata": {},
   "outputs": [],
   "source": [
    "# ==============================================================================\n",
    "# --- 步驟一：動態計算基準 (SPY) 的指標 ---\n",
    "# ==============================================================================\n",
    "benchmark_ticker = \"SPY\"\n",
    "benchmark_metrics = {}\n",
    "periods_map = {\"5年\": \"5y\", \"3年\": \"3y\",\"1年\": \"1y\"}\n",
    "\n",
    "print(f\"--- 正在計算基準 ({benchmark_ticker}) 指標 ---\")\n",
    "for period_name, period_code in periods_map.items():\n",
    "    try:\n",
    "        spy_df = db.get_stock(benchmark_ticker, period_code)\n",
    "        if not spy_df.empty:\n",
    "            bench_return = get_info.calculate_annual_return(spy_df['Close'])\n",
    "            bench_volatility = get_info.calculate_annualized_std(spy_df['Close'])\n",
    "            benchmark_metrics[period_name] = {\"return\": bench_return, \"volatility\": bench_volatility}\n",
    "        else:\n",
    "            benchmark_metrics[period_name] = {\"return\": np.nan, \"volatility\": np.nan}\n",
    "    except Exception as e:\n",
    "        print(f\"計算 {benchmark_ticker} {period_name} 指標時發生錯誤: {e}\")\n",
    "        benchmark_metrics[period_name] = {\"return\": np.nan, \"volatility\": np.nan}\n",
    "\n",
    "# 為了方便檢視，將計算出的基準指標也用表格印出\n",
    "benchmark_df = pd.DataFrame(benchmark_metrics).T\n",
    "benchmark_df.rename(columns={'return': '年化報酬率', 'volatility': '年化波動率'}, inplace=True)\n",
    "styled_benchmark_df = benchmark_df.style.format(\"{:.2%}\").set_caption(f\"<b>市場基準 ({benchmark_ticker}) 表現</b>\")\n",
    "display(styled_benchmark_df)\n",
    "print(\"\\n--- 基準指標計算完成 ---\")"
   ]
  },
  {
   "cell_type": "code",
   "execution_count": null,
   "id": "33",
   "metadata": {},
   "outputs": [],
   "source": [
    "\n",
    "# ==============================================================================\n",
    "# --- 步驟二：分析目標股票，並「帶入」基準數值進行比較 ---\n",
    "# ==============================================================================\n",
    "stock = \"U\"\n",
    "risk_free_rate = 0.045\n",
    "\n",
    "print(f\"\\n--- 正在分析目標股票: {stock} ---\")\n",
    "\n",
    "# 象限分析的輔助函式 (維持不變)\n",
    "def classify_quadrant(stock_return, stock_vol, bench_return, bench_vol):\n",
    "    if pd.isna(stock_return) or pd.isna(stock_vol) or pd.isna(bench_return):\n",
    "        return \"資料不足\"\n",
    "    if stock_return >= bench_return:\n",
    "        return \"② 高報酬/低風險 (夢幻逸品)\" if stock_vol <= bench_vol else \"① 高報酬/高風險 (明星股)\"\n",
    "    else:\n",
    "        return \"③ 低報酬/低風險 (防禦型)\" if stock_vol <= bench_vol else \"④ 低報酬/高風險 (黑洞區)\"\n",
    "\n",
    "# 計算與分析\n",
    "metrics = {}\n",
    "for period_name, period_code in periods_map.items():\n",
    "    try:\n",
    "        stock_df = db.get_stock(stock, period_code)\n",
    "        if not stock_df.empty:\n",
    "            annual_return = get_info.calculate_annual_return(stock_df['Close'])\n",
    "            annual_std = get_info.calculate_annualized_std(stock_df['Close'])\n",
    "            sharpe = get_info.calculate_sharpe_ratio(stock_df['Close'], risk_free_rate)\n",
    "            \n",
    "            # ### 關鍵串接點 ###\n",
    "            # 從預先算好的 benchmark_metrics 字典中，取出對應期間的基準數據\n",
    "            bench_data = benchmark_metrics[period_name]\n",
    "            \n",
    "            # 把「個股指標」和「基準指標」一起傳入函式進行比較\n",
    "            quadrant_desc = classify_quadrant(annual_return, annual_std, bench_data[\"return\"], bench_data[\"volatility\"])\n",
    "            \n",
    "            metrics[period_name] = {\n",
    "                \"年化報酬率\": annual_return, \"年化波動率\": annual_std,\n",
    "                \"夏普值\": sharpe, \"象限分析\": quadrant_desc\n",
    "            }\n",
    "        else:\n",
    "            metrics[period_name] = {\"年化報酬率\": np.nan, \"年化波動率\": np.nan, \"夏普值\": np.nan, \"象限分析\": \"資料不足\"}\n",
    "    except Exception as e:\n",
    "        print(f\"分析 {stock} {period_name} 時發生錯誤: {e}\")\n",
    "        metrics[period_name] = {\"年化報酬率\": np.nan, \"年化波動率\": np.nan, \"夏普值\": np.nan, \"象限分析\": \"資料不足\"}\n",
    "\n",
    "# --- 步驟三：整理並輸出最終表格 ---\n",
    "results_df = pd.DataFrame(metrics).T\n",
    "results_df = results_df[[\"年化報酬率\", \"年化波動率\", \"夏普值\", \"象限分析\"]]\n",
    "\n",
    "styled_df = results_df.style.format({\n",
    "    \"年化報酬率\": \"{:.2%}\", \"年化波動率\": \"{:.2%}\", \"夏普值\": \"{:.2f}\"\n",
    "}).set_caption(f\"<b>{stock} 的風險與報酬分析 (無風險利率: {risk_free_rate:.1%})</b>\")\\\n",
    "  .set_properties(**{'text-align': 'center'})\\\n",
    "  .set_table_styles([\n",
    "      {'selector': 'caption', 'props': 'caption-side: top; font-size: 1.2em;'},\n",
    "      {'selector': 'th', 'props': 'text-align: center;'}\n",
    "  ])\\\n",
    "  .set_properties(subset=['象限分析'], **{'text-align': 'left', 'font-weight': 'bold'})\n",
    "\n",
    "display(styled_df)"
   ]
  },
  {
   "cell_type": "code",
   "execution_count": null,
   "id": "34",
   "metadata": {},
   "outputs": [],
   "source": []
  }
 ],
 "metadata": {
  "kernelspec": {
   "display_name": "Python 3 (ipykernel)",
   "language": "python",
   "name": "python3"
  },
  "language_info": {
   "codemirror_mode": {
    "name": "ipython",
    "version": 3
   },
   "file_extension": ".py",
   "mimetype": "text/x-python",
   "name": "python",
   "nbconvert_exporter": "python",
   "pygments_lexer": "ipython3",
   "version": "3.12.3"
  }
 },
 "nbformat": 4,
 "nbformat_minor": 5
}
